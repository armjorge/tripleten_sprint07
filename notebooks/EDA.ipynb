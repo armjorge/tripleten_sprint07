{
 "cells": [
  {
   "cell_type": "markdown",
   "id": "0",
   "metadata": {},
   "source": [
    "# Proyecto del Sprint 07"
   ]
  },
  {
   "cell_type": "markdown",
   "id": "1",
   "metadata": {},
   "source": [
    "## Paso 1 Configuración\n",
    "\n",
    "1. Crea una cuenta en github\n",
    "2. Crea un nuevo repositorio git con un archivo `README.md` y `.gitignore`\n",
    "3. Crear una cuenta en render.com y vincúlala al github\n",
    "4. Instalar pandas y plotly-express.\n",
    "5. Instalar streamlit\n",
    "6. Crear un nuevo entorno virtual y poner un nombre significativo\n",
    "7. Instalar vscode\n",
    "8. Crea requirements.txt"
   ]
  },
  {
   "cell_type": "code",
   "execution_count": null,
   "id": "2",
   "metadata": {},
   "outputs": [],
   "source": [
    "# Importar Librerías\n",
    "import pandas as pd\n",
    "import plotly.express as px\n",
    "import os"
   ]
  },
  {
   "cell_type": "markdown",
   "id": "3",
   "metadata": {},
   "source": [
    "## Paso 2. Descarga del archivo de datos\n",
    "1. Descarga el conjunto de datos de anuncios de coches (vehicles_us.csv) o encuentra tu propio dataset en formato CSV.\n",
    "2. Coloca el conjunto de datos en el directorio del proyecto.\n",
    "3. Abre el Jupyter notebook EDA.ipynb y experimenta con plotly-express para crear visualizaciones para el análisis exploratorio básico del conjunto de datos dentro del notebook.\n",
    "\n"
   ]
  },
  {
   "cell_type": "code",
   "execution_count": null,
   "id": "4",
   "metadata": {},
   "outputs": [],
   "source": [
    "cwd = os.getcwd()\n",
    "print(cwd)\n",
    "file_path = os.path.join(cwd, '..')\n",
    "file_path = os.path.join(file_path, 'vehicles_us.csv')\n",
    "print(file_path)\n",
    "car_data = pd.read_csv(file_path)\n",
    "fig = px.histogram(car_data, x=\"odometer\") # crear un histograma\n",
    "fig.show() # crear gráfico de dispersión\n",
    "car_data.head()"
   ]
  },
  {
   "cell_type": "code",
   "execution_count": null,
   "id": "5",
   "metadata": {},
   "outputs": [],
   "source": [
    "fig = px.scatter(car_data, x=\"odometer\", y=\"price\") # crear un gráfico de dispersión\n",
    "fig.show() # crear gráfico de dispersión"
   ]
  },
  {
   "cell_type": "code",
   "execution_count": null,
   "id": "6",
   "metadata": {},
   "outputs": [],
   "source": []
  }
 ],
 "metadata": {
  "kernelspec": {
   "display_name": ".venv",
   "language": "python",
   "name": "python3"
  },
  "language_info": {
   "codemirror_mode": {
    "name": "ipython",
    "version": 3
   },
   "file_extension": ".py",
   "mimetype": "text/x-python",
   "name": "python",
   "nbconvert_exporter": "python",
   "pygments_lexer": "ipython3",
   "version": "3.13.5"
  }
 },
 "nbformat": 4,
 "nbformat_minor": 5
}
